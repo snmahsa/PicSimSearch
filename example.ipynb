{
 "cells": [
  {
   "cell_type": "code",
   "execution_count": 1,
   "metadata": {},
   "outputs": [],
   "source": [
    "from PicSimSearch import Io\n",
    "from PicSimSearch import *\n",
    "from PicSimSearch import engine"
   ]
  },
  {
   "cell_type": "code",
   "execution_count": 2,
   "metadata": {},
   "outputs": [
    {
     "name": "stdout",
     "output_type": "stream",
     "text": [
      "No file selected\n"
     ]
    }
   ],
   "source": [
    "Io.upload.upload_image_of_local()"
   ]
  },
  {
   "cell_type": "code",
   "execution_count": 3,
   "metadata": {},
   "outputs": [],
   "source": [
    "image = Io.read.read_image_from_folder()"
   ]
  },
  {
   "cell_type": "code",
   "execution_count": 4,
   "metadata": {},
   "outputs": [
    {
     "name": "stdout",
     "output_type": "stream",
     "text": [
      "initialize engine ...\n",
      "extract_features\n",
      "[INFO] Loading Features...\n",
      "Searching ...\n",
      "O\n"
     ]
    },
    {
     "ename": "AttributeError",
     "evalue": "type object 'Io' has no attribute 'show'",
     "output_type": "error",
     "traceback": [
      "\u001b[0;31m---------------------------------------------------------------------------\u001b[0m",
      "\u001b[0;31mAttributeError\u001b[0m                            Traceback (most recent call last)",
      "Cell \u001b[0;32mIn[4], line 4\u001b[0m\n\u001b[1;32m      2\u001b[0m num_keypoints \u001b[39m=\u001b[39m \u001b[39m3000\u001b[39m\n\u001b[1;32m      3\u001b[0m dataset_path\n\u001b[0;32m----> 4\u001b[0m engine\u001b[39m.\u001b[39;49msearch(image, num_keypoints, dataset_path)\n",
      "File \u001b[0;32m~/Desktop/ENV/DIP_ENV/PicSimSearch/PicSimSearch/engine.py:47\u001b[0m, in \u001b[0;36msearch\u001b[0;34m(query, num_keypoints, dataset_path)\u001b[0m\n\u001b[1;32m     45\u001b[0m     result \u001b[39m=\u001b[39m \u001b[39mnext\u001b[39m(\u001b[39miter\u001b[39m(similarities))[\u001b[39m0\u001b[39m]\n\u001b[1;32m     46\u001b[0m     \u001b[39mprint\u001b[39m(result\u001b[39m.\u001b[39msplit(\u001b[39m'\u001b[39m\u001b[39m/\u001b[39m\u001b[39m'\u001b[39m)[\u001b[39m-\u001b[39m\u001b[39m2\u001b[39m])\n\u001b[0;32m---> 47\u001b[0m     Io\u001b[39m.\u001b[39;49mshow\u001b[39m.\u001b[39mresult(result, query)\n\u001b[1;32m     48\u001b[0m \u001b[39melse\u001b[39;00m:\n\u001b[1;32m     49\u001b[0m   \u001b[39mprint\u001b[39m(\u001b[39m\"\u001b[39m\u001b[39mNo similar images found.\u001b[39m\u001b[39m\"\u001b[39m)\n",
      "\u001b[0;31mAttributeError\u001b[0m: type object 'Io' has no attribute 'show'"
     ]
    }
   ],
   "source": [
    "dataset_path = 'DATASET'\n",
    "num_keypoints = 3000\n",
    "dataset_path\n",
    "engine.search(image, num_keypoints, dataset_path)\n"
   ]
  }
 ],
 "metadata": {
  "kernelspec": {
   "display_name": "DIP_ENV",
   "language": "python",
   "name": "python3"
  },
  "language_info": {
   "codemirror_mode": {
    "name": "ipython",
    "version": 3
   },
   "file_extension": ".py",
   "mimetype": "text/x-python",
   "name": "python",
   "nbconvert_exporter": "python",
   "pygments_lexer": "ipython3",
   "version": "3.10.12"
  },
  "orig_nbformat": 4
 },
 "nbformat": 4,
 "nbformat_minor": 2
}
